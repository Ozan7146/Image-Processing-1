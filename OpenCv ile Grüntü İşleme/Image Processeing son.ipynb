{
 "cells": [
  {
   "cell_type": "code",
   "execution_count": 3,
   "id": "a013dd4a",
   "metadata": {
    "scrolled": true
   },
   "outputs": [
    {
     "data": {
      "text/plain": [
       "-1"
      ]
     },
     "execution_count": 3,
     "metadata": {},
     "output_type": "execute_result"
    }
   ],
   "source": [
    "import cv2 as cv\n",
    "\n",
    "img = cv.imread('dog/3.jpg')\n",
    "\n",
    "cv.imshow('3',img)\n",
    "\n",
    "cv.waitKey(0) #for delay untill I press the key\n"
   ]
  },
  {
   "cell_type": "code",
   "execution_count": 4,
   "id": "7e8f6c72",
   "metadata": {},
   "outputs": [],
   "source": [
    "capture = cv.VideoCapture('video/pip.mp4')\n",
    "\n",
    "#reading video frame by frame\n",
    "while True:\n",
    "    isTrue, frame = capture.read()\n",
    "    cv.imshow('video',frame)\n",
    "    if cv.waitKey(20) & 0xFF == ord('d'):\n",
    "        break\n",
    "\n",
    "capture.release()\n",
    "cv.destroyAllWindows()\n"
   ]
  },
  {
   "cell_type": "code",
   "execution_count": null,
   "id": "4bd81199",
   "metadata": {},
   "outputs": [],
   "source": []
  },
  {
   "cell_type": "code",
   "execution_count": null,
   "id": "0d64d48f",
   "metadata": {},
   "outputs": [],
   "source": []
  }
 ],
 "metadata": {
  "kernelspec": {
   "display_name": "base",
   "language": "python",
   "name": "python3"
  },
  "language_info": {
   "codemirror_mode": {
    "name": "ipython",
    "version": 3
   },
   "file_extension": ".py",
   "mimetype": "text/x-python",
   "name": "python",
   "nbconvert_exporter": "python",
   "pygments_lexer": "ipython3",
   "version": "3.9.13 (main, Aug 25 2022, 23:51:50) [MSC v.1916 64 bit (AMD64)]"
  },
  "vscode": {
   "interpreter": {
    "hash": "3d61ab551cedfa4bf463a95f49711add89e79ef2a13257eeb63597bada8a13f3"
   }
  }
 },
 "nbformat": 4,
 "nbformat_minor": 5
}
